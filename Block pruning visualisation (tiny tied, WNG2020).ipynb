{
 "cells": [
  {
   "cell_type": "markdown",
   "metadata": {},
   "source": [
    "DECODER\n",
    "------"
   ]
  },
  {
   "cell_type": "markdown",
   "metadata": {},
   "source": [
    "![decoder_l1_ffn_W1](decoder_l1_ffn_W1.gif)\n",
    "\n",
    "![decoder_l1_ffn_W1](decoder_l1_ffn_W2.gif)"
   ]
  },
  {
   "cell_type": "markdown",
   "metadata": {},
   "source": [
    "ENCODER\n",
    "--------"
   ]
  },
  {
   "cell_type": "markdown",
   "metadata": {},
   "source": [
    "![encoder_l1_ffn_W1](encoder_l1_ffn_W1.gif)\n",
    "![encoder_l1_ffn_W1](encoder_l2_ffn_W1.gif)\n",
    "![encoder_l1_ffn_W1](encoder_l3_ffn_W1.gif)\n",
    "![encoder_l1_ffn_W1](encoder_l4_ffn_W1.gif)\n",
    "![encoder_l1_ffn_W1](encoder_l5_ffn_W1.gif)\n",
    "![encoder_l1_ffn_W1](encoder_l6_ffn_W1.gif)\n",
    "\n",
    "![encoder_l1_ffn_W1](encoder_l1_ffn_W2.gif)\n",
    "![encoder_l1_ffn_W1](encoder_l2_ffn_W2.gif)\n",
    "![encoder_l1_ffn_W1](encoder_l3_ffn_W2.gif)\n",
    "![encoder_l1_ffn_W1](encoder_l4_ffn_W2.gif)\n",
    "![encoder_l1_ffn_W1](encoder_l5_ffn_W2.gif)\n",
    "![encoder_l1_ffn_W1](encoder_l6_ffn_W2.gif)"
   ]
  },
  {
   "cell_type": "code",
   "execution_count": null,
   "metadata": {},
   "outputs": [],
   "source": []
  }
 ],
 "metadata": {
  "kernelspec": {
   "display_name": "Python 3",
   "language": "python",
   "name": "python3"
  },
  "language_info": {
   "codemirror_mode": {
    "name": "ipython",
    "version": 3
   },
   "file_extension": ".py",
   "mimetype": "text/x-python",
   "name": "python",
   "nbconvert_exporter": "python",
   "pygments_lexer": "ipython3",
   "version": "3.7.4"
  }
 },
 "nbformat": 4,
 "nbformat_minor": 2
}
